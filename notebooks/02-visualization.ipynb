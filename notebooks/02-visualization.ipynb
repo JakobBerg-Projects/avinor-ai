{
 "cells": [
  {
   "cell_type": "code",
   "execution_count": null,
   "id": "af680982",
   "metadata": {},
   "outputs": [],
   "source": [
    "import plotly.express as px\n",
    "import pandas as pd"
   ]
  },
  {
   "cell_type": "code",
   "execution_count": null,
   "id": "053ff921",
   "metadata": {},
   "outputs": [],
   "source": [
    "df=pd.read_csv(\"../data/processed_data/train.csv\")"
   ]
  },
  {
   "cell_type": "code",
   "execution_count": null,
   "id": "5071ab95",
   "metadata": {},
   "outputs": [],
   "source": [
    "df.head(10)"
   ]
  },
  {
   "cell_type": "code",
   "execution_count": null,
   "id": "67fd1ab1",
   "metadata": {},
   "outputs": [],
   "source": [
    "fig = px.histogram(df, x=\"month\",y='target_actual', color='airport_group')\n",
    "fig.show()"
   ]
  },
  {
   "cell_type": "code",
   "execution_count": null,
   "id": "38661b9d",
   "metadata": {},
   "outputs": [],
   "source": [
    "fig = px.histogram(df, x=\"dow\",y='target_actual', color='airport_group')\n",
    "fig.show()"
   ]
  },
  {
   "cell_type": "code",
   "execution_count": null,
   "id": "5e04d920",
   "metadata": {},
   "outputs": [],
   "source": [
    "fig = px.histogram(df, x=\"hournum\",y='target_actual', color='airport_group')\n",
    "fig.show()"
   ]
  },
  {
   "cell_type": "code",
   "execution_count": null,
   "id": "7a1ecb06",
   "metadata": {},
   "outputs": [],
   "source": [
    "fig = px.histogram(df, x=\"avg_duration\",y='target_actual', color='airport_group')\n",
    "fig.show()"
   ]
  },
  {
   "cell_type": "code",
   "execution_count": null,
   "id": "e679bd61",
   "metadata": {},
   "outputs": [],
   "source": [
    "cm = (\n",
    "    df.groupby([\"target_sched\", \"target_actual\"])\n",
    "      .size()\n",
    "      .reset_index(name=\"count\")\n",
    ")\n",
    "\n",
    "fig = px.density_heatmap(\n",
    "    cm, x=\"target_sched\", y=\"target_actual\", z=\"count\", \n",
    "    text_auto=True, color_continuous_scale=\"Blues\"\n",
    ")\n",
    "fig.update_layout(\n",
    "    xaxis_title=\"Scheduled Target\",\n",
    "    yaxis_title=\"Actual Target\",\n",
    "    title=\"Scheduled vs Actual Simultaneity\"\n",
    ")\n",
    "fig.show()"
   ]
  },
  {
   "cell_type": "code",
   "execution_count": null,
   "id": "17373081",
   "metadata": {},
   "outputs": [],
   "source": [
    "px.histogram(df, x=\"hournum\", color=\"target_actual\",\n",
    "             facet_col=\"target_sched\", barmode=\"overlay\")"
   ]
  },
  {
   "cell_type": "code",
   "execution_count": null,
   "id": "8e53c43e",
   "metadata": {},
   "outputs": [],
   "source": [
    "px.histogram(df, x=\"dow\", color=\"target_actual\",\n",
    "             facet_col=\"target_sched\", barmode=\"overlay\")"
   ]
  },
  {
   "cell_type": "code",
   "execution_count": null,
   "id": "bde4e0d2",
   "metadata": {},
   "outputs": [],
   "source": [
    "px.histogram(df, x=\"avg_duration\", color=\"target_actual\",\n",
    "             facet_col=\"target_sched\", barmode=\"overlay\")"
   ]
  }
 ],
 "metadata": {
  "kernelspec": {
   "display_name": "Python 3",
   "language": "python",
   "name": "python3"
  },
  "language_info": {
   "codemirror_mode": {
    "name": "ipython",
    "version": 3
   },
   "file_extension": ".py",
   "mimetype": "text/x-python",
   "name": "python",
   "nbconvert_exporter": "python",
   "pygments_lexer": "ipython3",
   "version": "3.11.3"
  }
 },
 "nbformat": 4,
 "nbformat_minor": 5
}
