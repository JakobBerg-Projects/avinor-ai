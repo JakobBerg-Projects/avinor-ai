{
 "cells": [
  {
   "cell_type": "code",
   "execution_count": 23,
   "id": "22e4f086",
   "metadata": {},
   "outputs": [],
   "source": [
    "import pandas as pd\n",
    "import pandas as pd\n",
    "from sklearn.preprocessing import OneHotEncoder\n",
    "from sklearn.compose import ColumnTransformer\n",
    "from sklearn.pipeline import Pipeline\n",
    "from sklearn.ensemble import RandomForestClassifier\n",
    "from sklearn.metrics import roc_auc_score, log_loss"
   ]
  },
  {
   "cell_type": "code",
   "execution_count": 24,
   "id": "e366cb33",
   "metadata": {},
   "outputs": [],
   "source": [
    "# Load pre-split data\n",
    "train = pd.read_csv(\"../data/processed_data/train.csv\")\n",
    "val   = pd.read_csv(\"../data/processed_data/val.csv\")"
   ]
  },
  {
   "cell_type": "code",
   "execution_count": 25,
   "id": "13f3905c",
   "metadata": {},
   "outputs": [
    {
     "name": "stdout",
     "output_type": "stream",
     "text": [
      "Baseline AUC: 0.8048600199136711\n",
      "Baseline Log Loss: 1.329250766610162\n"
     ]
    }
   ],
   "source": [
    "# y_val er fasit, target_actual\n",
    "y_val = val[\"target_actual\"]\n",
    "\n",
    "# Naiv prediksjon: bruk target_sched direkte\n",
    "y_pred_baseline = val[\"target_sched\"]\n",
    "\n",
    "# For log loss og AUC trenger vi \"sannsynligheter\".\n",
    "# Vi kan bruke target_sched som sannsynlighet (0 eller 1).\n",
    "auc_baseline = roc_auc_score(y_val, y_pred_baseline)\n",
    "eps = 1e-3  # lite justeringsledd\n",
    "y_pred_proba = val[\"target_sched\"].replace({0: eps, 1: 1-eps})\n",
    "\n",
    "logloss_baseline = log_loss(y_val, y_pred_proba)\n",
    "\n",
    "print(\"Baseline AUC:\", auc_baseline)\n",
    "print(\"Baseline Log Loss:\", logloss_baseline)"
   ]
  },
  {
   "cell_type": "code",
   "execution_count": 26,
   "id": "407b59b2",
   "metadata": {},
   "outputs": [
    {
     "name": "stdout",
     "output_type": "stream",
     "text": [
      "Baseline AUC: 0.5\n",
      "Baseline Log Loss: 0.6482079951688112\n"
     ]
    }
   ],
   "source": [
    "y_train = train[\"target_actual\"]\n",
    "p_majority = y_train.mean()  # andel positive i trening\n",
    "y_pred_proba = [p_majority] * len(y_val)\n",
    "\n",
    "logloss_baseline = log_loss(y_val, y_pred_proba)\n",
    "auc_baseline = roc_auc_score(y_val, y_pred_proba)\n",
    "print(\"Baseline AUC:\", auc_baseline)\n",
    "print(\"Baseline Log Loss:\", logloss_baseline)"
   ]
  },
  {
   "cell_type": "code",
   "execution_count": 27,
   "id": "2efc45d6",
   "metadata": {},
   "outputs": [
    {
     "data": {
      "text/html": [
       "<div>\n",
       "<style scoped>\n",
       "    .dataframe tbody tr th:only-of-type {\n",
       "        vertical-align: middle;\n",
       "    }\n",
       "\n",
       "    .dataframe tbody tr th {\n",
       "        vertical-align: top;\n",
       "    }\n",
       "\n",
       "    .dataframe thead th {\n",
       "        text-align: right;\n",
       "    }\n",
       "</style>\n",
       "<table border=\"1\" class=\"dataframe\">\n",
       "  <thead>\n",
       "    <tr style=\"text-align: right;\">\n",
       "      <th></th>\n",
       "      <th>airport_group</th>\n",
       "      <th>hour</th>\n",
       "      <th>target_actual</th>\n",
       "      <th>target_sched</th>\n",
       "      <th>flights_cnt</th>\n",
       "      <th>avg_duration</th>\n",
       "      <th>max_duration</th>\n",
       "      <th>avg_delay</th>\n",
       "      <th>max_delay</th>\n",
       "      <th>passenger_share</th>\n",
       "      <th>cargo_share</th>\n",
       "      <th>charter_share</th>\n",
       "      <th>dow</th>\n",
       "      <th>holiday</th>\n",
       "      <th>month</th>\n",
       "      <th>hournum</th>\n",
       "      <th>weekend</th>\n",
       "    </tr>\n",
       "  </thead>\n",
       "  <tbody>\n",
       "    <tr>\n",
       "      <th>0</th>\n",
       "      <td>C</td>\n",
       "      <td>2018-01-01 07:00:00</td>\n",
       "      <td>0</td>\n",
       "      <td>1</td>\n",
       "      <td>2</td>\n",
       "      <td>27.5</td>\n",
       "      <td>35.0</td>\n",
       "      <td>-7.000000</td>\n",
       "      <td>-2.0</td>\n",
       "      <td>1.0</td>\n",
       "      <td>0.0</td>\n",
       "      <td>0.0</td>\n",
       "      <td>0</td>\n",
       "      <td>True</td>\n",
       "      <td>1</td>\n",
       "      <td>7</td>\n",
       "      <td>0</td>\n",
       "    </tr>\n",
       "    <tr>\n",
       "      <th>1</th>\n",
       "      <td>C</td>\n",
       "      <td>2018-01-01 08:00:00</td>\n",
       "      <td>1</td>\n",
       "      <td>1</td>\n",
       "      <td>3</td>\n",
       "      <td>40.0</td>\n",
       "      <td>80.0</td>\n",
       "      <td>-4.333333</td>\n",
       "      <td>-2.0</td>\n",
       "      <td>1.0</td>\n",
       "      <td>0.0</td>\n",
       "      <td>0.0</td>\n",
       "      <td>0</td>\n",
       "      <td>True</td>\n",
       "      <td>1</td>\n",
       "      <td>8</td>\n",
       "      <td>0</td>\n",
       "    </tr>\n",
       "    <tr>\n",
       "      <th>2</th>\n",
       "      <td>G</td>\n",
       "      <td>2018-01-01 09:00:00</td>\n",
       "      <td>0</td>\n",
       "      <td>0</td>\n",
       "      <td>1</td>\n",
       "      <td>67.0</td>\n",
       "      <td>67.0</td>\n",
       "      <td>-9.000000</td>\n",
       "      <td>-9.0</td>\n",
       "      <td>1.0</td>\n",
       "      <td>0.0</td>\n",
       "      <td>0.0</td>\n",
       "      <td>0</td>\n",
       "      <td>True</td>\n",
       "      <td>1</td>\n",
       "      <td>9</td>\n",
       "      <td>0</td>\n",
       "    </tr>\n",
       "    <tr>\n",
       "      <th>3</th>\n",
       "      <td>D</td>\n",
       "      <td>2018-01-01 09:00:00</td>\n",
       "      <td>0</td>\n",
       "      <td>0</td>\n",
       "      <td>2</td>\n",
       "      <td>42.5</td>\n",
       "      <td>50.0</td>\n",
       "      <td>-3.000000</td>\n",
       "      <td>-1.0</td>\n",
       "      <td>1.0</td>\n",
       "      <td>0.0</td>\n",
       "      <td>0.0</td>\n",
       "      <td>0</td>\n",
       "      <td>True</td>\n",
       "      <td>1</td>\n",
       "      <td>9</td>\n",
       "      <td>0</td>\n",
       "    </tr>\n",
       "    <tr>\n",
       "      <th>4</th>\n",
       "      <td>C</td>\n",
       "      <td>2018-01-01 09:00:00</td>\n",
       "      <td>1</td>\n",
       "      <td>1</td>\n",
       "      <td>2</td>\n",
       "      <td>27.5</td>\n",
       "      <td>30.0</td>\n",
       "      <td>-8.500000</td>\n",
       "      <td>-6.0</td>\n",
       "      <td>1.0</td>\n",
       "      <td>0.0</td>\n",
       "      <td>0.0</td>\n",
       "      <td>0</td>\n",
       "      <td>True</td>\n",
       "      <td>1</td>\n",
       "      <td>9</td>\n",
       "      <td>0</td>\n",
       "    </tr>\n",
       "  </tbody>\n",
       "</table>\n",
       "</div>"
      ],
      "text/plain": [
       "  airport_group                 hour  target_actual  target_sched  \\\n",
       "0             C  2018-01-01 07:00:00              0             1   \n",
       "1             C  2018-01-01 08:00:00              1             1   \n",
       "2             G  2018-01-01 09:00:00              0             0   \n",
       "3             D  2018-01-01 09:00:00              0             0   \n",
       "4             C  2018-01-01 09:00:00              1             1   \n",
       "\n",
       "   flights_cnt  avg_duration  max_duration  avg_delay  max_delay  \\\n",
       "0            2          27.5          35.0  -7.000000       -2.0   \n",
       "1            3          40.0          80.0  -4.333333       -2.0   \n",
       "2            1          67.0          67.0  -9.000000       -9.0   \n",
       "3            2          42.5          50.0  -3.000000       -1.0   \n",
       "4            2          27.5          30.0  -8.500000       -6.0   \n",
       "\n",
       "   passenger_share  cargo_share  charter_share  dow  holiday  month  hournum  \\\n",
       "0              1.0          0.0            0.0    0     True      1        7   \n",
       "1              1.0          0.0            0.0    0     True      1        8   \n",
       "2              1.0          0.0            0.0    0     True      1        9   \n",
       "3              1.0          0.0            0.0    0     True      1        9   \n",
       "4              1.0          0.0            0.0    0     True      1        9   \n",
       "\n",
       "   weekend  \n",
       "0        0  \n",
       "1        0  \n",
       "2        0  \n",
       "3        0  \n",
       "4        0  "
      ]
     },
     "execution_count": 27,
     "metadata": {},
     "output_type": "execute_result"
    }
   ],
   "source": [
    "train.head()"
   ]
  },
  {
   "cell_type": "code",
   "execution_count": 28,
   "id": "39241ac2",
   "metadata": {},
   "outputs": [
    {
     "name": "stdout",
     "output_type": "stream",
     "text": [
      "Accuracy: 0.8974973997580183\n",
      "AUC: 0.9604544402343885\n",
      "Log Loss: 0.22150775015729468\n"
     ]
    }
   ],
   "source": [
    "# Define features\n",
    "cat_cols = [\"airport_group\"]  \n",
    "num_cols = [\n",
    "    \"flights_cnt\", \"avg_duration\", \"max_duration\",\n",
    "    \"passenger_share\", \"cargo_share\", \"charter_share\",\n",
    "    \"dow\", \"month\", \"hournum\", \"weekend\",\n",
    "    \"target_sched\", \"holiday\"\n",
    "]\n",
    "feature_cols = cat_cols + num_cols\n",
    "\n",
    "# Separate X / y\n",
    "X_train = train[feature_cols]\n",
    "y_train = train[\"target_actual\"]\n",
    "\n",
    "X_val = val[feature_cols]\n",
    "y_val = val[\"target_actual\"]\n",
    "\n",
    "# Preprocessing\n",
    "preprocess = ColumnTransformer([\n",
    "    (\"cat\", OneHotEncoder(handle_unknown=\"ignore\"), cat_cols),\n",
    "    (\"num\", \"passthrough\", num_cols)\n",
    "])\n",
    "\n",
    "# Model\n",
    "rf_model = Pipeline([\n",
    "    (\"preprocess\", preprocess),\n",
    "    (\"clf\", RandomForestClassifier(\n",
    "        n_estimators=200,\n",
    "        max_depth=20,\n",
    "        random_state=42,\n",
    "        n_jobs=-1\n",
    "    ))\n",
    "])\n",
    "\n",
    "# Train and evaluate\n",
    "rf_model.fit(X_train, y_train)\n",
    "\n",
    "print(\"Accuracy:\", rf_model.score(X_val, y_val))\n",
    "y_proba = rf_model.predict_proba(X_val)[:, 1]\n",
    "print(\"AUC:\", roc_auc_score(y_val, y_proba))\n",
    "print(\"Log Loss:\", log_loss(y_val, y_proba))\n"
   ]
  },
  {
   "cell_type": "code",
   "execution_count": 29,
   "id": "8fa97aa1",
   "metadata": {},
   "outputs": [
    {
     "name": "stdout",
     "output_type": "stream",
     "text": [
      "            feature  importance\n",
      "7       flights_cnt    0.577789\n",
      "17     target_sched    0.180349\n",
      "8      avg_duration    0.075479\n",
      "15          hournum    0.045356\n",
      "9      max_duration    0.043665\n",
      "14            month    0.028501\n",
      "13              dow    0.017625\n",
      "1   airport_group_B    0.009202\n",
      "0   airport_group_A    0.004159\n",
      "6   airport_group_G    0.003224\n",
      "16          weekend    0.002610\n",
      "3   airport_group_D    0.002439\n",
      "4   airport_group_E    0.001971\n",
      "18          holiday    0.001603\n",
      "10  passenger_share    0.001566\n"
     ]
    }
   ],
   "source": [
    "# Hent transformeren for kategoriske features\n",
    "ohe = rf_model.named_steps[\"preprocess\"].named_transformers_[\"cat\"]\n",
    "\n",
    "# Feature-navn for kategoriske\n",
    "cat_feature_names = list(ohe.get_feature_names_out([\"airport_group\"]))\n",
    "\n",
    "# Kombiner med numeriske\n",
    "all_feature_names = cat_feature_names + num_cols\n",
    "importances = rf_model.named_steps[\"clf\"].feature_importances_\n",
    "\n",
    "feat_importance = pd.DataFrame({\n",
    "    \"feature\": all_feature_names,\n",
    "    \"importance\": importances\n",
    "}).sort_values(\"importance\", ascending=False)\n",
    "\n",
    "print(feat_importance.head(15))"
   ]
  },
  {
   "cell_type": "code",
   "execution_count": 30,
   "id": "f54dcd79",
   "metadata": {},
   "outputs": [
    {
     "data": {
      "image/png": "[encoded data removed]",
      "text/plain": [
       "<Figure size 640x480 with 1 Axes>"
      ]
     },
     "metadata": {},
     "output_type": "display_data"
    }
   ],
   "source": [
    "import matplotlib.pyplot as plt\n",
    "\n",
    "feat_importance.head(15).plot(kind=\"barh\", x=\"feature\", y=\"importance\", legend=False)\n",
    "plt.title(\"Top 15 Feature Importances\")\n",
    "plt.gca().invert_yaxis()\n",
    "plt.show()"
   ]
  }
 ],
 "metadata": {
  "kernelspec": {
   "display_name": "INF161",
   "language": "python",
   "name": "python3"
  },
  "language_info": {
   "codemirror_mode": {
    "name": "ipython",
    "version": 3
   },
   "file_extension": ".py",
   "mimetype": "text/x-python",
   "name": "python",
   "nbconvert_exporter": "python",
   "pygments_lexer": "ipython3",
   "version": "3.12.7"
  }
 },
 "nbformat": 4,
 "nbformat_minor": 5
}
