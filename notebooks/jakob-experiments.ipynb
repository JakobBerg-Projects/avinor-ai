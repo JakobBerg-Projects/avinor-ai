{
 "cells": [
  {
   "cell_type": "markdown",
   "id": "1b4f4bdd",
   "metadata": {},
   "source": [
    "# Imports"
   ]
  },
  {
   "cell_type": "code",
   "execution_count": null,
   "id": "32d3ab8b",
   "metadata": {},
   "outputs": [],
   "source": [
    "import pandas as pd\n",
    "from datetime import timedelta"
   ]
  },
  {
   "cell_type": "code",
   "execution_count": null,
   "id": "ffa58490",
   "metadata": {},
   "outputs": [],
   "source": [
    "df=pd.read_csv('../data/raw_data/historical_flights.csv')"
   ]
  },
  {
   "cell_type": "code",
   "execution_count": null,
   "id": "6589388f",
   "metadata": {},
   "outputs": [],
   "source": [
    "df"
   ]
  },
  {
   "cell_type": "markdown",
   "id": "dc6366b4",
   "metadata": {},
   "source": [
    "## Fjerner kansellerte fly"
   ]
  },
  {
   "cell_type": "code",
   "execution_count": null,
   "id": "11f966b2",
   "metadata": {},
   "outputs": [],
   "source": [
    "df = df[df[\"cancelled\"] == 0].copy()"
   ]
  },
  {
   "cell_type": "markdown",
   "id": "510d9799",
   "metadata": {},
   "source": [
    "## Koverterer til datetime"
   ]
  },
  {
   "cell_type": "code",
   "execution_count": null,
   "id": "964f8bef",
   "metadata": {},
   "outputs": [],
   "source": [
    "df['std'] = pd.to_datetime(df['std'])\n",
    "df['sta'] = pd.to_datetime(df['sta'])\n",
    "df['atd'] = pd.to_datetime(df['atd'])\n",
    "df['ata'] = pd.to_datetime(df['ata'])"
   ]
  },
  {
   "cell_type": "markdown",
   "id": "dd48e224",
   "metadata": {},
   "source": [
    "## Lager intervaller for kommunikasjon"
   ]
  },
  {
   "cell_type": "code",
   "execution_count": null,
   "id": "c684a4e0",
   "metadata": {},
   "outputs": [],
   "source": [
    "dep = df.dropna(subset=[\"atd\"]).copy()\n",
    "dep[\"start\"] = dep[\"atd\"] - pd.to_timedelta(15, \"m\")\n",
    "dep[\"end\"]   = dep[\"atd\"] + pd.to_timedelta(8, \"m\")\n",
    "dep[\"airport_group\"] = dep[\"dep_airport_group\"]\n",
    "\n",
    "arr = df.dropna(subset=[\"ata\"]).copy()\n",
    "arr[\"start\"] = arr[\"ata\"] - pd.to_timedelta(16, \"m\")\n",
    "arr[\"end\"]   = arr[\"ata\"] + pd.to_timedelta(5, \"m\")\n",
    "arr[\"airport_group\"] = arr[\"arr_airport_group\"]\n",
    "\n",
    "intervals = pd.concat([dep, arr], ignore_index=True)\n",
    "intervals = intervals.dropna(subset=[\"airport_group\"])"
   ]
  },
  {
   "cell_type": "markdown",
   "id": "e655706d",
   "metadata": {},
   "source": [
    "## Markerer overlapp"
   ]
  },
  {
   "cell_type": "code",
   "execution_count": null,
   "id": "c5200571",
   "metadata": {},
   "outputs": [],
   "source": [
    "def fast_overlap(group):\n",
    "    events = []\n",
    "    for idx, row in group.iterrows():\n",
    "        events.append((row[\"start\"], +1, idx))\n",
    "        events.append((row[\"end\"], -1, idx))\n",
    "    events.sort()\n",
    "\n",
    "    active = set()\n",
    "    overlap_flags = {idx: 0 for idx in group.index}\n",
    "\n",
    "    for time, change, idx in events:\n",
    "        if change == +1:  # start\n",
    "            if active:  # minst én er aktiv\n",
    "                overlap_flags[idx] = 1\n",
    "                for other in active:\n",
    "                    overlap_flags[other] = 1\n",
    "            active.add(idx)\n",
    "        else:  # slutt\n",
    "            active.remove(idx)\n",
    "\n",
    "    group[\"target\"] = group.index.map(overlap_flags)\n",
    "    return group"
   ]
  },
  {
   "cell_type": "code",
   "execution_count": null,
   "id": "8426ca8b",
   "metadata": {},
   "outputs": [],
   "source": [
    "results = intervals.groupby(\"airport_group\", group_keys=False).apply(fast_overlap)\n"
   ]
  },
  {
   "cell_type": "code",
   "execution_count": null,
   "id": "cf16098e",
   "metadata": {},
   "outputs": [],
   "source": [
    "group_a=results[results[\"airport_group\"] == 'A']"
   ]
  }
 ],
 "metadata": {
  "kernelspec": {
   "display_name": "Python 3",
   "language": "python",
   "name": "python3"
  },
  "language_info": {
   "codemirror_mode": {
    "name": "ipython",
    "version": 3
   },
   "file_extension": ".py",
   "mimetype": "text/x-python",
   "name": "python",
   "nbconvert_exporter": "python",
   "pygments_lexer": "ipython3",
   "version": "3.11.3"
  }
 },
 "nbformat": 4,
 "nbformat_minor": 5
}
